{
  "nbformat": 4,
  "nbformat_minor": 0,
  "metadata": {
    "colab": {
      "name": "Untitled0.ipynb",
      "provenance": []
    },
    "kernelspec": {
      "name": "python3",
      "display_name": "Python 3"
    },
    "language_info": {
      "name": "python"
    }
  },
  "cells": [
    {
      "cell_type": "code",
      "metadata": {
        "id": "6qFuGMyXl6l6",
        "colab": {
          "base_uri": "https://localhost:8080/"
        },
        "outputId": "f5df9c86-b023-42d9-a944-6a4802d26ae1"
      },
      "source": [
        "%tensorflow_version 2.x\n",
        "\n",
        "import tensorflow as tf\n",
        "import matplotlib.pyplot as plt\n",
        "import seaborn as sn\n",
        "import numpy as np\n",
        "import pandas as pd\n",
        "import math\n",
        "import datetime\n",
        "import platform\n",
        "%load_ext tensorboard\n"
      ],
      "execution_count": 15,
      "outputs": [
        {
          "output_type": "stream",
          "text": [
            "The tensorboard extension is already loaded. To reload it, use:\n",
            "  %reload_ext tensorboard\n"
          ],
          "name": "stdout"
        }
      ]
    },
    {
      "cell_type": "code",
      "metadata": {
        "id": "EtCsTzu4mPJz"
      },
      "source": [
        "dataset = tf.keras.datasets.mnist\n",
        "(x_train, y_train), (x_test, y_test) = dataset.load_data()"
      ],
      "execution_count": 16,
      "outputs": []
    },
    {
      "cell_type": "code",
      "metadata": {
        "id": "z_l7DsfnmmnA"
      },
      "source": [
        "(_, ANCHO_IMAGEN, ALTURA_IMAGEN) = x_train.shape\n",
        "CHANNELS = 1\n",
        "\n",
        "# print('ancho:', ANCHO_IMAGEN);\n",
        "# print('alto:', ALTURA_IMAGEN);\n",
        "# print('channels:', CHANNELS);\n",
        "\n",
        "x_train_with_chanels = x_train.reshape( x_train.shape[0], ANCHO_IMAGEN, ALTURA_IMAGEN, CHANNELS )\n",
        "x_test_with_chanels = x_test.reshape( x_test.shape[0], ANCHO_IMAGEN, ALTURA_IMAGEN, CHANNELS )\n",
        "\n"
      ],
      "execution_count": 17,
      "outputs": []
    },
    {
      "cell_type": "code",
      "metadata": {
        "id": "FqPj1hRIpR-p"
      },
      "source": [
        "#NORMALIZAR DATOS\n",
        "x_train_normalized = x_train_with_chanels / 255\n",
        "x_test_normalized = x_test_with_chanels / 255"
      ],
      "execution_count": 18,
      "outputs": []
    },
    {
      "cell_type": "code",
      "metadata": {
        "id": "k1X6Zfb0nvRE"
      },
      "source": [
        "modelo = tf.keras.models.Sequential()\n",
        "\n",
        "modelo.add(tf.keras.layers.Convolution2D(   input_shape=(ANCHO_IMAGEN, ALTURA_IMAGEN, CHANNELS),\n",
        "                                            kernel_size=5,\n",
        "                                            filters=8,\n",
        "                                            strides=1,\n",
        "                                            activation=tf.keras.activations.relu,\n",
        "                                            kernel_initializer=tf.keras.initializers.VarianceScaling() ))\n",
        "\n",
        "modelo.add(tf.keras.layers.MaxPooling2D(pool_size=(2, 2),\n",
        "                                        strides=(2, 2) ))\n",
        "\n",
        "modelo.add(tf.keras.layers.Convolution2D(   kernel_size=5,\n",
        "                                            filters=16,\n",
        "                                            strides=1,\n",
        "                                            activation=tf.keras.activations.relu,\n",
        "                                            kernel_initializer=tf.keras.initializers.VarianceScaling() ))\n",
        "\n",
        "modelo.add(tf.keras.layers.MaxPooling2D(pool_size=(2, 2),\n",
        "                                        strides=(2, 2) ))\n",
        "\n",
        "modelo.add(tf.keras.layers.Flatten())\n",
        "\n",
        "modelo.add(tf.keras.layers.Dense(units=128,\n",
        "                                 activation=tf.keras.activations.relu ));\n",
        "\n",
        "modelo.add(tf.keras.layers.Dropout(0.2))\n",
        "\n",
        "modelo.add(tf.keras.layers.Dense(   units=10,\n",
        "                                    activation=tf.keras.activations.softmax,\n",
        "                                    kernel_initializer=tf.keras.initializers.VarianceScaling() ))"
      ],
      "execution_count": 19,
      "outputs": []
    },
    {
      "cell_type": "code",
      "metadata": {
        "id": "cWJ2m2UIopNK"
      },
      "source": [
        "tf.keras.utils.plot_model(\n",
        "                            modelo,\n",
        "                            show_shapes=True,\n",
        "                            show_layer_names=True, )"
      ],
      "execution_count": null,
      "outputs": []
    },
    {
      "cell_type": "code",
      "metadata": {
        "id": "qmq7SwLbozbt"
      },
      "source": [
        "adam_optimizer = tf.keras.optimizers.Adam(learning_rate=0.001)\n",
        "\n",
        "modelo.compile(\n",
        "    optimizer=adam_optimizer,\n",
        "    loss=tf.keras.losses.sparse_categorical_crossentropy,\n",
        "    metrics=['accuracy']\n",
        ")"
      ],
      "execution_count": 21,
      "outputs": []
    },
    {
      "cell_type": "code",
      "metadata": {
        "colab": {
          "base_uri": "https://localhost:8080/"
        },
        "id": "_8byfdUVo_FJ",
        "outputId": "9c249831-da22-4891-8be4-bb3c4ab83116"
      },
      "source": [
        "log_dir=\".logs/fit/\" + datetime.datetime.now().strftime(\"%Y%m%d-%H%M%S\")\n",
        "tensorboard_callback = tf.keras.callbacks.TensorBoard(log_dir=log_dir, histogram_freq=1)\n",
        "\n",
        "training_history = modelo.fit(\n",
        "    x_train_normalized,\n",
        "    y_train,\n",
        "    epochs=10,\n",
        "    validation_data=(x_test_normalized, y_test),\n",
        "    callbacks=[tensorboard_callback]\n",
        ")"
      ],
      "execution_count": 22,
      "outputs": [
        {
          "output_type": "stream",
          "text": [
            "Epoch 1/10\n",
            "1875/1875 [==============================] - 27s 14ms/step - loss: 0.2088 - accuracy: 0.9360 - val_loss: 0.0581 - val_accuracy: 0.9834\n",
            "Epoch 2/10\n",
            "1875/1875 [==============================] - 26s 14ms/step - loss: 0.0672 - accuracy: 0.9794 - val_loss: 0.0414 - val_accuracy: 0.9879\n",
            "Epoch 3/10\n",
            "1875/1875 [==============================] - 28s 15ms/step - loss: 0.0499 - accuracy: 0.9848 - val_loss: 0.0335 - val_accuracy: 0.9890\n",
            "Epoch 4/10\n",
            "1875/1875 [==============================] - 28s 15ms/step - loss: 0.0385 - accuracy: 0.9881 - val_loss: 0.0296 - val_accuracy: 0.9906\n",
            "Epoch 5/10\n",
            "1875/1875 [==============================] - 28s 15ms/step - loss: 0.0328 - accuracy: 0.9899 - val_loss: 0.0384 - val_accuracy: 0.9875\n",
            "Epoch 6/10\n",
            "1875/1875 [==============================] - 27s 14ms/step - loss: 0.0277 - accuracy: 0.9911 - val_loss: 0.0297 - val_accuracy: 0.9900\n",
            "Epoch 7/10\n",
            "1875/1875 [==============================] - 27s 14ms/step - loss: 0.0247 - accuracy: 0.9922 - val_loss: 0.0305 - val_accuracy: 0.9908\n",
            "Epoch 8/10\n",
            "1875/1875 [==============================] - 26s 14ms/step - loss: 0.0219 - accuracy: 0.9930 - val_loss: 0.0356 - val_accuracy: 0.9894\n",
            "Epoch 9/10\n",
            "1875/1875 [==============================] - 26s 14ms/step - loss: 0.0194 - accuracy: 0.9937 - val_loss: 0.0316 - val_accuracy: 0.9901\n",
            "Epoch 10/10\n",
            "1875/1875 [==============================] - 26s 14ms/step - loss: 0.0163 - accuracy: 0.9949 - val_loss: 0.0308 - val_accuracy: 0.9907\n"
          ],
          "name": "stdout"
        }
      ]
    },
    {
      "cell_type": "code",
      "metadata": {
        "colab": {
          "base_uri": "https://localhost:8080/"
        },
        "id": "AU5RUm8krGFQ",
        "outputId": "c63b8309-8350-4990-8503-7354a110b8d3"
      },
      "source": [
        "train = modelo.evaluate(x_train_normalized, y_train)"
      ],
      "execution_count": 23,
      "outputs": [
        {
          "output_type": "stream",
          "text": [
            "1875/1875 [==============================] - 10s 6ms/step - loss: 0.0082 - accuracy: 0.9972\n"
          ],
          "name": "stdout"
        }
      ]
    },
    {
      "cell_type": "code",
      "metadata": {
        "colab": {
          "base_uri": "https://localhost:8080/"
        },
        "id": "W1fWPgA2wf7z",
        "outputId": "b5af00db-9c62-449f-e810-ee815a4acc1b"
      },
      "source": [
        "print('PRECISION FINAL: ', train[1])"
      ],
      "execution_count": 24,
      "outputs": [
        {
          "output_type": "stream",
          "text": [
            "PRECISION FINAL:  0.9971833229064941\n"
          ],
          "name": "stdout"
        }
      ]
    },
    {
      "cell_type": "code",
      "metadata": {
        "id": "oS4Il4hRy4ZY"
      },
      "source": [
        "predict = modelo.predict([x_test_normalized])"
      ],
      "execution_count": 25,
      "outputs": []
    },
    {
      "cell_type": "code",
      "metadata": {
        "id": "RtcjMBaK3Te5"
      },
      "source": [
        "predictions = np.argmax(predict, axis=1)"
      ],
      "execution_count": 28,
      "outputs": []
    },
    {
      "cell_type": "code",
      "metadata": {
        "colab": {
          "base_uri": "https://localhost:8080/",
          "height": 428
        },
        "id": "3w8kHtIx3mlN",
        "outputId": "86b422f6-037e-406e-c768-caa9727fd632"
      },
      "source": [
        "confusion_matrix = tf.math.confusion_matrix(y_test, predictions)\n",
        "f, ax = plt.subplots(figsize=(9, 7))\n",
        "sn.heatmap(\n",
        "    confusion_matrix,\n",
        "    annot=True,\n",
        "    linewidths=.5,\n",
        "    fmt=\"d\",\n",
        "    square=True,\n",
        "    ax=ax\n",
        ")\n",
        "plt.show()"
      ],
      "execution_count": 29,
      "outputs": [
        {
          "output_type": "display_data",
          "data": {
            "image/png": "[encoded data removed]",
            "text/plain": [
              "<Figure size 648x504 with 2 Axes>"
            ]
          },
          "metadata": {
            "tags": [],
            "needs_background": "light"
          }
        }
      ]
    }
  ]
}
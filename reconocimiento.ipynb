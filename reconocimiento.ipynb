{
  "nbformat": 4,
  "nbformat_minor": 0,
  "metadata": {
    "colab": {
      "name": "Untitled0.ipynb",
      "provenance": [],
      "include_colab_link": true
    },
    "kernelspec": {
      "name": "python3",
      "display_name": "Python 3"
    },
    "language_info": {
      "name": "python"
    }
  },
  "cells": [
    {
      "cell_type": "markdown",
      "metadata": {
        "id": "view-in-github",
        "colab_type": "text"
      },
      "source": [
        "<a href=\"https://colab.research.google.com/github/kathy18/ia/blob/main/reconocimiento.ipynb\" target=\"_parent\"><img src=\"https://colab.research.google.com/assets/colab-badge.svg\" alt=\"Open In Colab\"/></a>"
      ]
    },
    {
      "cell_type": "code",
      "metadata": {
        "id": "6qFuGMyXl6l6"
      },
      "source": [
        "%tensorflow_version 2.x\n",
        "\n",
        "import tensorflow as tf\n",
        "import matplotlib.pyplot as plt\n",
        "import seaborn as sn\n",
        "import numpy as np\n",
        "import pandas as pd\n",
        "import math\n",
        "import datetime\n",
        "import platform\n",
        "%load_ext tensorboard\n"
      ],
      "execution_count": 2,
      "outputs": []
    },
    {
      "cell_type": "code",
      "metadata": {
        "id": "EtCsTzu4mPJz",
        "colab": {
          "base_uri": "https://localhost:8080/"
        },
        "outputId": "9aa6aa09-d7ac-43d3-a4ea-f936d7a78969"
      },
      "source": [
        "dataset = tf.keras.datasets.mnist\n",
        "(x_train, y_train), (x_test, y_test) = dataset.load_data()"
      ],
      "execution_count": 3,
      "outputs": [
        {
          "output_type": "stream",
          "text": [
            "Downloading data from https://storage.googleapis.com/tensorflow/tf-keras-datasets/mnist.npz\n",
            "11493376/11490434 [==============================] - 0s 0us/step\n"
          ],
          "name": "stdout"
        }
      ]
    },
    {
      "cell_type": "code",
      "metadata": {
        "id": "z_l7DsfnmmnA"
      },
      "source": [
        "(_, ANCHO_IMAGEN, ALTURA_IMAGEN) = x_train.shape\n",
        "CHANNELS = 1\n",
        "\n",
        "# print('ancho:', ANCHO_IMAGEN);\n",
        "# print('alto:', ALTURA_IMAGEN);\n",
        "# print('channels:', CHANNELS);\n",
        "\n",
        "x_train_with_chanels = x_train.reshape( x_train.shape[0], ANCHO_IMAGEN, ALTURA_IMAGEN, CHANNELS )\n",
        "x_test_with_chanels = x_test.reshape( x_test.shape[0], ANCHO_IMAGEN, ALTURA_IMAGEN, CHANNELS )\n",
        "\n"
      ],
      "execution_count": 4,
      "outputs": []
    },
    {
      "cell_type": "code",
      "metadata": {
        "id": "FqPj1hRIpR-p"
      },
      "source": [
        "#NORMALIZAR DATOS\n",
        "x_train_normalized = x_train_with_chanels / 255\n",
        "x_test_normalized = x_test_with_chanels / 255"
      ],
      "execution_count": 5,
      "outputs": []
    },
    {
      "cell_type": "code",
      "metadata": {
        "id": "k1X6Zfb0nvRE"
      },
      "source": [
        "modelo = tf.keras.models.Sequential()\n",
        "\n",
        "modelo.add(tf.keras.layers.Convolution2D(   input_shape=(ANCHO_IMAGEN, ALTURA_IMAGEN, CHANNELS),\n",
        "                                            kernel_size=5,\n",
        "                                            filters=8,\n",
        "                                            strides=1,\n",
        "                                            activation=tf.keras.activations.relu,\n",
        "                                            kernel_initializer=tf.keras.initializers.VarianceScaling() ))\n",
        "\n",
        "modelo.add(tf.keras.layers.MaxPooling2D(pool_size=(2, 2),\n",
        "                                        strides=(2, 2) ))\n",
        "\n",
        "modelo.add(tf.keras.layers.Convolution2D(   kernel_size=5,\n",
        "                                            filters=16,\n",
        "                                            strides=1,\n",
        "                                            activation=tf.keras.activations.relu,\n",
        "                                            kernel_initializer=tf.keras.initializers.VarianceScaling() ))\n",
        "\n",
        "modelo.add(tf.keras.layers.MaxPooling2D(pool_size=(2, 2),\n",
        "                                        strides=(2, 2) ))\n",
        "\n",
        "modelo.add(tf.keras.layers.Flatten())\n",
        "\n",
        "modelo.add(tf.keras.layers.Dense(units=128,\n",
        "                                 activation=tf.keras.activations.relu ));\n",
        "\n",
        "modelo.add(tf.keras.layers.Dropout(0.2))\n",
        "\n",
        "modelo.add(tf.keras.layers.Dense(   units=10,\n",
        "                                    activation=tf.keras.activations.softmax,\n",
        "                                    kernel_initializer=tf.keras.initializers.VarianceScaling() ))"
      ],
      "execution_count": 6,
      "outputs": []
    },
    {
      "cell_type": "code",
      "metadata": {
        "id": "cWJ2m2UIopNK"
      },
      "source": [
        "tf.keras.utils.plot_model(\n",
        "                            modelo,\n",
        "                            show_shapes=True,\n",
        "                            show_layer_names=True, )"
      ],
      "execution_count": null,
      "outputs": []
    },
    {
      "cell_type": "code",
      "metadata": {
        "id": "qmq7SwLbozbt"
      },
      "source": [
        "adam_optimizer = tf.keras.optimizers.Adam(learning_rate=0.001)\n",
        "\n",
        "modelo.compile(\n",
        "    optimizer=adam_optimizer,\n",
        "    loss=tf.keras.losses.sparse_categorical_crossentropy,\n",
        "    metrics=['accuracy']\n",
        ")"
      ],
      "execution_count": 8,
      "outputs": []
    },
    {
      "cell_type": "code",
      "metadata": {
        "colab": {
          "base_uri": "https://localhost:8080/"
        },
        "id": "_8byfdUVo_FJ",
        "outputId": "b0c00065-6470-4ac6-a0ee-51f65b1a530b"
      },
      "source": [
        "log_dir=\".logs/fit/\" + datetime.datetime.now().strftime(\"%Y%m%d-%H%M%S\")\n",
        "tensorboard_callback = tf.keras.callbacks.TensorBoard(log_dir=log_dir, histogram_freq=1)\n",
        "\n",
        "training_history = modelo.fit(\n",
        "    x_train_normalized,\n",
        "    y_train,\n",
        "    epochs=10,\n",
        "    validation_data=(x_test_normalized, y_test),\n",
        "    callbacks=[tensorboard_callback]\n",
        ")"
      ],
      "execution_count": 9,
      "outputs": [
        {
          "output_type": "stream",
          "text": [
            "Epoch 1/10\n",
            "1875/1875 [==============================] - 26s 14ms/step - loss: 0.1987 - accuracy: 0.9377 - val_loss: 0.0580 - val_accuracy: 0.9802\n",
            "Epoch 2/10\n",
            "1875/1875 [==============================] - 25s 13ms/step - loss: 0.0696 - accuracy: 0.9786 - val_loss: 0.0538 - val_accuracy: 0.9828\n",
            "Epoch 3/10\n",
            "1875/1875 [==============================] - 25s 13ms/step - loss: 0.0514 - accuracy: 0.9841 - val_loss: 0.0432 - val_accuracy: 0.9859\n",
            "Epoch 4/10\n",
            "1875/1875 [==============================] - 25s 14ms/step - loss: 0.0413 - accuracy: 0.9868 - val_loss: 0.0333 - val_accuracy: 0.9894\n",
            "Epoch 5/10\n",
            "1875/1875 [==============================] - 25s 14ms/step - loss: 0.0319 - accuracy: 0.9899 - val_loss: 0.0290 - val_accuracy: 0.9905\n",
            "Epoch 6/10\n",
            "1875/1875 [==============================] - 25s 14ms/step - loss: 0.0297 - accuracy: 0.9907 - val_loss: 0.0402 - val_accuracy: 0.9873\n",
            "Epoch 7/10\n",
            "1875/1875 [==============================] - 26s 14ms/step - loss: 0.0258 - accuracy: 0.9919 - val_loss: 0.0318 - val_accuracy: 0.9897\n",
            "Epoch 8/10\n",
            "1875/1875 [==============================] - 26s 14ms/step - loss: 0.0212 - accuracy: 0.9931 - val_loss: 0.0367 - val_accuracy: 0.9897\n",
            "Epoch 9/10\n",
            "1875/1875 [==============================] - 25s 14ms/step - loss: 0.0197 - accuracy: 0.9936 - val_loss: 0.0351 - val_accuracy: 0.9911\n",
            "Epoch 10/10\n",
            "1875/1875 [==============================] - 26s 14ms/step - loss: 0.0168 - accuracy: 0.9943 - val_loss: 0.0343 - val_accuracy: 0.9907\n"
          ],
          "name": "stdout"
        }
      ]
    },
    {
      "cell_type": "code",
      "metadata": {
        "colab": {
          "base_uri": "https://localhost:8080/"
        },
        "id": "AU5RUm8krGFQ",
        "outputId": "43cc02ec-0559-43e4-c8aa-59c9f1297e32"
      },
      "source": [
        "train = modelo.evaluate(x_train_normalized, y_train)"
      ],
      "execution_count": 10,
      "outputs": [
        {
          "output_type": "stream",
          "text": [
            "1875/1875 [==============================] - 10s 5ms/step - loss: 0.0078 - accuracy: 0.9975\n"
          ],
          "name": "stdout"
        }
      ]
    },
    {
      "cell_type": "code",
      "metadata": {
        "colab": {
          "base_uri": "https://localhost:8080/"
        },
        "id": "W1fWPgA2wf7z",
        "outputId": "782624fe-38d7-461a-b4f0-51d104f0139f"
      },
      "source": [
        "print('PRECISION FINAL: ', train[1])"
      ],
      "execution_count": 11,
      "outputs": [
        {
          "output_type": "stream",
          "text": [
            "PRECISION FINAL:  0.9974833130836487\n"
          ],
          "name": "stdout"
        }
      ]
    },
    {
      "cell_type": "code",
      "metadata": {
        "id": "oS4Il4hRy4ZY"
      },
      "source": [
        "predict = modelo.predict([x_test_normalized])"
      ],
      "execution_count": 12,
      "outputs": []
    },
    {
      "cell_type": "code",
      "metadata": {
        "id": "RtcjMBaK3Te5",
        "colab": {
          "base_uri": "https://localhost:8080/",
          "height": 163
        },
        "outputId": "00bfc06a-9323-450a-f0af-f82b94691d1b"
      },
      "source": [
        "predictions = np.argmax(predictions_one_hot, axis=1)"
      ],
      "execution_count": 13,
      "outputs": [
        {
          "output_type": "error",
          "ename": "NameError",
          "evalue": "ignored",
          "traceback": [
            "\u001b[0;31m---------------------------------------------------------------------------\u001b[0m",
            "\u001b[0;31mNameError\u001b[0m                                 Traceback (most recent call last)",
            "\u001b[0;32m<ipython-input-13-ff7fab062856>\u001b[0m in \u001b[0;36m<module>\u001b[0;34m()\u001b[0m\n\u001b[0;32m----> 1\u001b[0;31m \u001b[0mpredictions\u001b[0m \u001b[0;34m=\u001b[0m \u001b[0mnp\u001b[0m\u001b[0;34m.\u001b[0m\u001b[0margmax\u001b[0m\u001b[0;34m(\u001b[0m\u001b[0mpredictions_one_hot\u001b[0m\u001b[0;34m,\u001b[0m \u001b[0maxis\u001b[0m\u001b[0;34m=\u001b[0m\u001b[0;36m1\u001b[0m\u001b[0;34m)\u001b[0m\u001b[0;34m\u001b[0m\u001b[0;34m\u001b[0m\u001b[0m\n\u001b[0m",
            "\u001b[0;31mNameError\u001b[0m: name 'predictions_one_hot' is not defined"
          ]
        }
      ]
    },
    {
      "cell_type": "code",
      "metadata": {
        "id": "3w8kHtIx3mlN"
      },
      "source": [
        "confusion_matrix = tf.math.confusion_matrix(y_test, predictions)\n",
        "f, ax = plt.subplots(figsize=(9, 7))\n",
        "sn.heatmap(\n",
        "    confusion_matrix,\n",
        "    annot=True,\n",
        "    linewidths=.5,\n",
        "    fmt=\"d\",\n",
        "    square=True,\n",
        "    ax=ax\n",
        ")\n",
        "plt.show()"
      ],
      "execution_count": null,
      "outputs": []
    }
  ]
}